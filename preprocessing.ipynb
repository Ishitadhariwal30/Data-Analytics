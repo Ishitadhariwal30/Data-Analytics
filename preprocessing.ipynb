{
 "cells": [
  {
   "cell_type": "code",
   "execution_count": 1,
   "id": "3c6e7f21",
   "metadata": {},
   "outputs": [],
   "source": [
    "import pandas as pd\n",
    "import numpy as np\n",
    "from sklearn.model_selection import train_test_split\n",
    "from sklearn.ensemble import RandomForestClassifier\n",
    "from sklearn.impute import SimpleImputer\n",
    "from sklearn.preprocessing import StandardScaler\n",
    "from sklearn.metrics import classification_report, confusion_matrix\n",
    "import matplotlib.pyplot as plt\n",
    "import seaborn as sns\n"
   ]
  },
  {
   "cell_type": "code",
   "execution_count": 15,
   "id": "05623ab0",
   "metadata": {},
   "outputs": [
    {
     "name": "stdout",
     "output_type": "stream",
     "text": [
      "✅ Data loaded successfully.\n"
     ]
    }
   ],
   "source": [
    "# Step 2: Load Data\n",
    "train = pd.read_csv('Train_Data.csv')\n",
    "test = pd.read_csv('Test_Data.csv')\n",
    "sample_submission = pd.read_csv('Sample_Submission (1).csv')\n",
    "\n",
    "print(\"✅ Data loaded successfully.\")\n"
   ]
  },
  {
   "cell_type": "code",
   "execution_count": 16,
   "id": "dadae2b8",
   "metadata": {},
   "outputs": [],
   "source": [
    "# Step 3: Drop Identifier\n",
    "test_seqn = test['SEQN']  # Save for final submission (if needed)\n",
    "train.drop(columns=['SEQN'], inplace=True)\n",
    "test.drop(columns=['SEQN'], inplace=True)\n"
   ]
  },
  {
   "cell_type": "code",
   "execution_count": 17,
   "id": "fc70cc57",
   "metadata": {},
   "outputs": [],
   "source": [
    "# Step 4: Drop rows with missing target (age_group)\n",
    "train = train.dropna(subset=['age_group'])\n"
   ]
  },
  {
   "cell_type": "code",
   "execution_count": 18,
   "id": "ec00a2cd",
   "metadata": {},
   "outputs": [],
   "source": [
    "# Step 5: Encode target variable: Adult → 0, Senior → 1\n",
    "train['age_group'] = train['age_group'].map({'Adult': 0, 'Senior': 1})\n"
   ]
  },
  {
   "cell_type": "code",
   "execution_count": 19,
   "id": "a63cf6a2",
   "metadata": {},
   "outputs": [],
   "source": [
    "# Step 6: Separate Features and Target\n",
    "X = train.drop(columns=['age_group'])\n",
    "y = train['age_group']\n"
   ]
  },
  {
   "cell_type": "code",
   "execution_count": 20,
   "id": "bae8e16a",
   "metadata": {},
   "outputs": [],
   "source": [
    "# Step 7: Handle Missing Values in Features\n",
    "imputer = SimpleImputer(strategy='mean')\n",
    "X_imputed = imputer.fit_transform(X)\n",
    "test_imputed = imputer.transform(test)\n"
   ]
  },
  {
   "cell_type": "code",
   "execution_count": 21,
   "id": "24b60966",
   "metadata": {},
   "outputs": [],
   "source": [
    "# Step 8: Feature Scaling\n",
    "scaler = StandardScaler()\n",
    "X_scaled = scaler.fit_transform(X_imputed)\n",
    "test_scaled = scaler.transform(test_imputed)\n"
   ]
  },
  {
   "cell_type": "code",
   "execution_count": 22,
   "id": "acb17f0c",
   "metadata": {},
   "outputs": [
    {
     "name": "stdout",
     "output_type": "stream",
     "text": [
      "✅ Model trained successfully.\n"
     ]
    }
   ],
   "source": [
    "# Step 9: Train Model\n",
    "model = RandomForestClassifier(n_estimators=100, random_state=42)\n",
    "model.fit(X_scaled, y)\n",
    "\n",
    "print(\"✅ Model trained successfully.\")\n"
   ]
  },
  {
   "cell_type": "code",
   "execution_count": 23,
   "id": "9e5d95fa",
   "metadata": {},
   "outputs": [
    {
     "name": "stdout",
     "output_type": "stream",
     "text": [
      "✅ Model trained successfully.\n"
     ]
    }
   ],
   "source": [
    "# Step 9: Train Model\n",
    "model = RandomForestClassifier(n_estimators=100, random_state=42)\n",
    "model.fit(X_scaled, y)\n",
    "\n",
    "print(\"✅ Model trained successfully.\")\n"
   ]
  },
  {
   "cell_type": "code",
   "execution_count": 24,
   "id": "4e4e7a15",
   "metadata": {},
   "outputs": [],
   "source": [
    "# Step 10: Predict on Test Set\n",
    "test_preds = model.predict(test_scaled)\n"
   ]
  },
  {
   "cell_type": "code",
   "execution_count": 25,
   "id": "a31a9266",
   "metadata": {},
   "outputs": [
    {
     "name": "stdout",
     "output_type": "stream",
     "text": [
      "✅ submission.csv file saved.\n"
     ]
    }
   ],
   "source": [
    "# Step 11: Create Submission File\n",
    "submission = pd.DataFrame({\n",
    "    'age_group': test_preds.astype(int)  # Ensure output is 0/1\n",
    "})\n",
    "\n",
    "submission.to_csv('submission.csv', index=False)\n",
    "print(\"✅ submission.csv file saved.\")\n"
   ]
  }
 ],
 "metadata": {
  "kernelspec": {
   "display_name": "Python 3",
   "language": "python",
   "name": "python3"
  },
  "language_info": {
   "codemirror_mode": {
    "name": "ipython",
    "version": 3
   },
   "file_extension": ".py",
   "mimetype": "text/x-python",
   "name": "python",
   "nbconvert_exporter": "python",
   "pygments_lexer": "ipython3",
   "version": "3.12.7"
  }
 },
 "nbformat": 4,
 "nbformat_minor": 5
}
